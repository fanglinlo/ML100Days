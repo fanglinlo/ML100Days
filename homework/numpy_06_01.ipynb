{
 "cells": [
  {
   "cell_type": "markdown",
   "metadata": {
    "id": "P6xk2_jLsvFF"
   },
   "source": [
    "# [作業目標]\n",
    "\n",
    "1. [簡答題] 請問下列這三種方法有什麼不同？\n",
    "\n",
    "```\n",
    "print(a.sum()) \n",
    "print(np.sum(a))\n",
    "print(sum(a)) \n",
    "```\n",
    "\n",
    "2. 請對一個 5x5 的隨機矩陣作正規化的操作。\n",
    "\n",
    "3. 請建立一個長度等於 10 的正整數向量，並且將其中的最大值改成 -1。\n"
   ]
  },
  {
   "cell_type": "markdown",
   "metadata": {
    "id": "uXGll28asvFS"
   },
   "source": [
    "# 作業 "
   ]
  },
  {
   "cell_type": "markdown",
   "metadata": {
    "id": "lbz8VjL6jxyL"
   },
   "source": [
    "### 1. [簡答題] 請問下列這三種方法有什麼不同？\n",
    "\n",
    "```\n",
    "print(a.sum()) \n",
    "print(np.sum(a))\n",
    "print(sum(a)) \n",
    "```\n",
    "\n"
   ]
  },
  {
   "cell_type": "code",
   "execution_count": 6,
   "metadata": {
    "id": "5QrYoyNWsvFS",
    "outputId": "e9e14d36-38ce-4ce5-edf2-3c7b129db580"
   },
   "outputs": [
    {
     "name": "stdout",
     "output_type": "stream",
     "text": [
      "[1 2 3 4 5 6]\n",
      "21\n",
      "21\n",
      "21\n"
     ]
    }
   ],
   "source": [
    "import numpy as np\n",
    "\n",
    "a=np.arange(1,7)\n",
    "print(a)\n",
    "\n",
    "print(a.sum())\n",
    "print(np.sum(a))\n",
    "print(sum(a))\n",
    "\n",
    "# 一模一樣"
   ]
  },
  {
   "cell_type": "markdown",
   "metadata": {
    "id": "vVrjBXabjxyS"
   },
   "source": [
    "### 2. 請對一個 5x5 的隨機矩陣作正規化的操作。\n"
   ]
  },
  {
   "cell_type": "code",
   "execution_count": 7,
   "metadata": {
    "id": "ffDRVHs9jxyS"
   },
   "outputs": [],
   "source": [
    "# 記得先 Import 正確的套件\n",
    "import numpy as np"
   ]
  },
  {
   "cell_type": "code",
   "execution_count": 8,
   "metadata": {
    "id": "e1gVI0tvsvFY",
    "outputId": "43bf676f-fd04-4edf-c062-b5fe7fe1f4bf",
    "scrolled": true
   },
   "outputs": [
    {
     "data": {
      "text/plain": [
       "array([[0.07955839, 1.        , 0.79499205, 0.2357209 , 0.5755376 ],\n",
       "       [0.1989924 , 0.66962263, 0.        , 0.77324591, 0.86513231],\n",
       "       [0.5491708 , 0.34851332, 0.77968305, 0.42121758, 0.14675671],\n",
       "       [0.0696314 , 0.53089109, 0.87772542, 0.31359346, 0.10632702],\n",
       "       [0.79339172, 0.44418762, 0.53394023, 0.42458762, 0.97298239]])"
      ]
     },
     "execution_count": 8,
     "metadata": {},
     "output_type": "execute_result"
    }
   ],
   "source": [
    "A = np.random.random((5, 5))\n",
    "\n",
    "A=(A-A.min())/(A.max()-A.min())\n",
    "A"
   ]
  },
  {
   "cell_type": "markdown",
   "metadata": {
    "id": "Ptc3ZrNQjxyU"
   },
   "source": [
    "### 3. 請建立一個長度等於 10 的正整數向量，並且將其中的最大值改成 -1。\n"
   ]
  },
  {
   "cell_type": "code",
   "execution_count": 9,
   "metadata": {
    "id": "Yu1kbLxojxyU",
    "outputId": "d323e754-178a-46ae-e15e-98275ae220dd"
   },
   "outputs": [],
   "source": [
    "c=np.random.random((10))\n",
    "c=np.random.randint(1,100,10)"
   ]
  },
  {
   "cell_type": "code",
   "execution_count": 10,
   "metadata": {
    "id": "IoPlZnZgjxyV"
   },
   "outputs": [
    {
     "name": "stdout",
     "output_type": "stream",
     "text": [
      "[87 32 84 -1 34 51 81 16 41 53]\n"
     ]
    }
   ],
   "source": [
    "c[np.argmax(c)]=-1\n",
    "print(c)"
   ]
  }
 ],
 "metadata": {
  "colab": {
   "name": "06 Homework_維元.ipynb",
   "provenance": []
  },
  "kernelspec": {
   "display_name": "Python 3",
   "language": "python",
   "name": "python3"
  },
  "language_info": {
   "codemirror_mode": {
    "name": "ipython",
    "version": 3
   },
   "file_extension": ".py",
   "mimetype": "text/x-python",
   "name": "python",
   "nbconvert_exporter": "python",
   "pygments_lexer": "ipython3",
   "version": "3.8.5"
  }
 },
 "nbformat": 4,
 "nbformat_minor": 1
}
